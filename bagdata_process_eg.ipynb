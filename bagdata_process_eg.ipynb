{
 "cells": [
  {
   "cell_type": "code",
   "execution_count": 1,
   "metadata": {},
   "outputs": [],
   "source": [
    "import rosbag\n",
    "\n",
    "import scipy.io as sio\n",
    "\n",
    "bag_file = \"datas/2023-07-13-14-19-21.bag\""
   ]
  },
  {
   "attachments": {},
   "cell_type": "markdown",
   "metadata": {},
   "source": [
    "## 1. Read data from bagfile"
   ]
  },
  {
   "cell_type": "code",
   "execution_count": 2,
   "metadata": {},
   "outputs": [
    {
     "name": "stdout",
     "output_type": "stream",
     "text": [
      "7371 14747\n"
     ]
    }
   ],
   "source": [
    "bag = rosbag.Bag(bag_file)\n",
    "bno055_imu_raw = []\n",
    "xsense_imu_raw = []\n",
    "\n",
    "for topic, msg, t in bag.read_messages():\n",
    "    if topic == \"/bno055_imu/raw\":\n",
    "        bno055_imu_raw.append(msg)\n",
    "    elif topic == \"/imu/data\":\n",
    "        xsense_imu_raw.append(msg)\n",
    "\n",
    "print(len(bno055_imu_raw), len(xsense_imu_raw))"
   ]
  },
  {
   "cell_type": "code",
   "execution_count": 35,
   "metadata": {},
   "outputs": [
    {
     "data": {
      "text/plain": [
       "1689229161"
      ]
     },
     "execution_count": 35,
     "metadata": {},
     "output_type": "execute_result"
    }
   ],
   "source": [
    "bno055_imu_raw[0].header.stamp.secs"
   ]
  },
  {
   "cell_type": "code",
   "execution_count": 65,
   "metadata": {},
   "outputs": [],
   "source": [
    "xsense = []\n",
    "bno055 = []\n",
    "x = []\n",
    "j = 0\n",
    "for i in range(len(bno055_imu_raw)):\n",
    "    x.append(i)\n",
    "    bno055.append([i, \n",
    "                   bno055_imu_raw[i].angular_velocity.x, bno055_imu_raw[i].angular_velocity.y, bno055_imu_raw[i].angular_velocity.z])\n",
    "    xsense.append([i, \n",
    "                   xsense_imu_raw[j].angular_velocity.x, xsense_imu_raw[j].angular_velocity.y, xsense_imu_raw[j].angular_velocity.z])\n",
    "    j += 2"
   ]
  },
  {
   "attachments": {},
   "cell_type": "markdown",
   "metadata": {},
   "source": [
    "### 1.1 X angular velocity"
   ]
  },
  {
   "cell_type": "code",
   "execution_count": 45,
   "metadata": {},
   "outputs": [],
   "source": [
    "import matplotlib.pyplot as plt"
   ]
  },
  {
   "cell_type": "code",
   "execution_count": 66,
   "metadata": {},
   "outputs": [
    {
     "data": {
      "image/png": "[encoded data removed]",
      "text/plain": [
       "<Figure size 640x480 with 1 Axes>"
      ]
     },
     "metadata": {},
     "output_type": "display_data"
    }
   ],
   "source": [
    "y1 = []\n",
    "y2 = []\n",
    "for i in range(len(bno055)):\n",
    "    y1.append(float(xsense[i][1]))\n",
    "    y2.append(float(bno055[i][1]))\n",
    "\n",
    "plt.plot(x, y1, 1, 'red')\n",
    "plt.plot(x, y2, 1, 'blue')\n",
    "plt.show()"
   ]
  },
  {
   "cell_type": "code",
   "execution_count": 98,
   "metadata": {},
   "outputs": [
    {
     "name": "stdout",
     "output_type": "stream",
     "text": [
      "1689130376.541603088\n"
     ]
    }
   ],
   "source": [
    "timestamp = imu_raw[0].header.stamp.secs + imu_raw[0].header.stamp.nsecs * 1E-9\n",
    "print(\"{:.{}f}\".format(timestamp, 9))"
   ]
  },
  {
   "attachments": {},
   "cell_type": "markdown",
   "metadata": {},
   "source": [
    "## 2. Parsing data"
   ]
  },
  {
   "cell_type": "code",
   "execution_count": 100,
   "metadata": {},
   "outputs": [],
   "source": [
    "temp1 = []\n",
    "temp2 = []\n",
    "temp3 = []\n",
    "temp4 = []\n",
    "temp5 = []\n",
    "temp6 = []\n",
    "temp7 = []\n",
    "\n",
    "for i in range(len(imu_raw)):\n",
    "    temp1.append(imu_raw[i].header.stamp.secs + imu_raw[i].header.stamp.nsecs * 1e-9)\n",
    "    temp2.append(imu_raw[i].angular_velocity.x)\n",
    "    temp3.append(imu_raw[i].angular_velocity.y)\n",
    "    temp4.append(imu_raw[i].angular_velocity.z)\n",
    "    temp5.append(imu_raw[i].linear_acceleration.x)\n",
    "    temp6.append(imu_raw[i].linear_acceleration.y)\n",
    "    temp7.append(imu_raw[i].linear_acceleration.z)\n",
    "\n",
    "bno055_imu_data = {\"Timestamp\": temp1, \"AngularVelocityX\": temp2, \"AngularVelocityY\": temp3, \"AngularVelocityZ\": temp4,\n",
    "                   \"LinearAccelerationX\": temp5, \"LinearAccelerationY\": temp6, \"LinearAccelerationZ\": temp7}\n",
    "\n",
    "temp1 = []\n",
    "temp2 = []\n",
    "temp3 = []\n",
    "temp4 = []\n",
    "temp5 = []\n",
    "\n",
    "for i in range(len(gps_raw)):\n",
    "    temp1.append(gps_raw[i].header.stamp.secs + gps_raw[i].header.stamp.nsecs * 1e-9)\n",
    "    temp2.append(gps_raw[i].latitude)\n",
    "    temp3.append(gps_raw[i].longitude)\n",
    "    temp4.append(gps_raw[i].altitude)\n",
    "    temp5.append(gps_raw[i].position_covariance_type)\n",
    "\n",
    "gps_data = {\"Timestamp\": temp1, \"Latitude\": temp2, \"Longitude\": temp3, \"Altitude\": temp4, \"PositionCovarianceType\": temp5}\n"
   ]
  },
  {
   "attachments": {},
   "cell_type": "markdown",
   "metadata": {},
   "source": [
    "## 3. Save as matfile"
   ]
  },
  {
   "cell_type": "code",
   "execution_count": 101,
   "metadata": {},
   "outputs": [],
   "source": [
    "bno055_savepath = \"/home/crange/dev/python/output/bno055.mat\"\n",
    "gps_savepath = \"/home/crange/dev/python/output/gps.mat\"\n",
    "\n",
    "sio.savemat(bno055_savepath, bno055_imu_data)\n",
    "sio.savemat(gps_savepath, gps_data)"
   ]
  },
  {
   "attachments": {},
   "cell_type": "markdown",
   "metadata": {},
   "source": [
    "## 4. Load matfile"
   ]
  },
  {
   "cell_type": "code",
   "execution_count": 102,
   "metadata": {},
   "outputs": [],
   "source": [
    "load_imu = sio.loadmat(bno055_savepath)\n",
    "load_gps = sio.loadmat(gps_savepath)"
   ]
  },
  {
   "cell_type": "code",
   "execution_count": 103,
   "metadata": {},
   "outputs": [
    {
     "name": "stdout",
     "output_type": "stream",
     "text": [
      "1689130377.210824013\n"
     ]
    }
   ],
   "source": [
    "print(\"{:.{}f}\".format(load_gps[\"Timestamp\"][0][0], 9))"
   ]
  },
  {
   "cell_type": "code",
   "execution_count": 104,
   "metadata": {},
   "outputs": [
    {
     "data": {
      "text/plain": [
       "array([[-0.00222222, -0.00333333, -0.00333333, ..., -0.00444444,\n",
       "        -0.00333333, -0.00222222]])"
      ]
     },
     "execution_count": 104,
     "metadata": {},
     "output_type": "execute_result"
    }
   ],
   "source": [
    "load_imu[\"AngularVelocityX\"]"
   ]
  }
 ],
 "metadata": {
  "kernelspec": {
   "display_name": "Python 3",
   "language": "python",
   "name": "python3"
  },
  "language_info": {
   "codemirror_mode": {
    "name": "ipython",
    "version": 3
   },
   "file_extension": ".py",
   "mimetype": "text/x-python",
   "name": "python",
   "nbconvert_exporter": "python",
   "pygments_lexer": "ipython3",
   "version": "3.8.10"
  },
  "orig_nbformat": 4
 },
 "nbformat": 4,
 "nbformat_minor": 2
}
