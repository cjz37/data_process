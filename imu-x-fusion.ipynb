{
 "cells": [
  {
   "cell_type": "code",
   "execution_count": 12,
   "metadata": {},
   "outputs": [],
   "source": [
    "import matplotlib.pyplot as plt\n",
    "import rosbag\n",
    "import numpy as np\n",
    "import math\n",
    "from scipy.spatial.transform import Rotation as R\n",
    "import scipy.io as sio\n",
    "\n",
    "bag_file = \"datas/2023-07-13-17-16-30.bag\""
   ]
  },
  {
   "cell_type": "code",
   "execution_count": 7,
   "metadata": {},
   "outputs": [],
   "source": [
    "f = open(\"datas/odometry_loc_52.txt\", encoding=\"utf-8\")\n",
    "line1 = 0\n",
    "\n",
    "data_line = f.readline()\n",
    "datas1 = []\n",
    "while data_line:\n",
    "    d = data_line.replace('\\n', '').split(\"\\t\")\n",
    "    datas1.append(d)\n",
    "    data_line = f.readline()\n",
    "    line1 += 1"
   ]
  },
  {
   "cell_type": "code",
   "execution_count": 8,
   "metadata": {},
   "outputs": [],
   "source": [
    "x1 = []\n",
    "y1 = []\n",
    "for i in range(line1):\n",
    "    x1.append(float(datas1[i][1]))\n",
    "    y1.append(float(datas1[i][2]))"
   ]
  },
  {
   "cell_type": "code",
   "execution_count": 9,
   "metadata": {},
   "outputs": [
    {
     "name": "stdout",
     "output_type": "stream",
     "text": [
      "180\n"
     ]
    }
   ],
   "source": [
    "bag = rosbag.Bag(bag_file)\n",
    "odom = []\n",
    "\n",
    "for topic, msg, t in bag.read_messages():\n",
    "    if topic == \"/odom_est\":\n",
    "        odom.append(msg)\n",
    "\n",
    "print(len(odom))"
   ]
  },
  {
   "cell_type": "code",
   "execution_count": 10,
   "metadata": {},
   "outputs": [],
   "source": [
    "x2 = []\n",
    "y2 = []\n",
    "for i in range(len(odom)):\n",
    "    x2.append(odom[i].pose.pose.position.x)\n",
    "    y2.append(odom[i].pose.pose.position.y)"
   ]
  },
  {
   "cell_type": "code",
   "execution_count": 11,
   "metadata": {},
   "outputs": [
    {
     "data": {
      "image/png": "[encoded data removed]",
      "text/plain": [
       "<Figure size 640x480 with 1 Axes>"
      ]
     },
     "metadata": {},
     "output_type": "display_data"
    }
   ],
   "source": [
    "plt.scatter(x1, y1, 1)\n",
    "plt.scatter(x2, y2, 1)\n",
    "plt.show()"
   ]
  },
  {
   "cell_type": "code",
   "execution_count": 13,
   "metadata": {},
   "outputs": [],
   "source": [
    "euler1 = []\n",
    "for i in range(line1):\n",
    "    temp_q = [float(datas1[i][4]), float(datas1[i][5]), float(datas1[i][6]), float(datas1[i][7])]\n",
    "    r = R.from_quat(temp_q)\n",
    "    temp_euler = r.as_euler('xyz', degrees=True)\n",
    "    euler1.append(temp_euler)\n",
    "\n",
    "euler2 = []\n",
    "for i in range(len(odom)):\n",
    "    temp_q = [odom[i].pose.pose.orientation.x, odom[i].pose.pose.orientation.y, odom[i].pose.pose.orientation.z, odom[i].pose.pose.orientation.w]\n",
    "    r = R.from_quat(temp_q)\n",
    "    temp_euler = r.as_euler('xyz', degrees=True)\n",
    "    euler2.append(temp_euler)"
   ]
  },
  {
   "cell_type": "code",
   "execution_count": 15,
   "metadata": {},
   "outputs": [
    {
     "data": {
      "text/plain": [
       "181"
      ]
     },
     "execution_count": 15,
     "metadata": {},
     "output_type": "execute_result"
    }
   ],
   "source": [
    "euler1_ = []\n",
    "i = 0\n",
    "while i <= 1809:\n",
    "    euler1_.append(euler1[i])\n",
    "    i += 10\n",
    "\n",
    "len(euler1_)"
   ]
  },
  {
   "cell_type": "code",
   "execution_count": 18,
   "metadata": {},
   "outputs": [
    {
     "name": "stdout",
     "output_type": "stream",
     "text": [
      "4.377124646828837\n",
      "-1.443269367849472\n",
      "-7.935641135859661\n",
      "-3.1921145988270236\n",
      "56.07407000979557\n",
      "43.451645185371106\n",
      "44.44555850722689\n",
      "70.54016520127544\n",
      "57.52305753642795\n",
      "51.43889165691774\n",
      "71.4413912682052\n",
      "91.41541661115372\n",
      "123.94391735349144\n",
      "124.74074180012735\n",
      "133.46069760335268\n",
      "151.8846458680412\n",
      "168.22039400841896\n",
      "177.96448430634396\n",
      "186.81737714530362\n",
      "202.88274686869892\n",
      "-144.44709155053033\n",
      "-131.6064621677414\n",
      "-123.48568939499467\n",
      "-114.0610045706766\n",
      "-98.17189960368373\n",
      "-100.39460530599202\n",
      "-87.2383343025819\n",
      "-59.29669732892507\n",
      "-46.544056537362195\n",
      "-29.411336575689674\n",
      "-82.33505585385475\n",
      "-89.17757148016437\n",
      "-94.52282368997251\n",
      "-83.22247027613192\n",
      "-78.91195524864975\n",
      "-76.6394880361909\n",
      "-68.1107922183356\n",
      "-55.193078176862\n",
      "-39.95490072798946\n",
      "-19.883893412761573\n",
      "-16.488617893490073\n",
      "-8.708741570149343\n",
      "-1.3606520344740005\n",
      "2.220631413626208\n",
      "12.414017473802996\n",
      "25.901512347004044\n",
      "32.42156715226538\n",
      "30.316129590607027\n",
      "34.86318056890061\n",
      "49.99215041910804\n",
      "61.443530427719494\n",
      "74.63612844592797\n",
      "86.0734857814926\n",
      "83.30741329395164\n",
      "94.5497762507424\n",
      "101.36605106602136\n",
      "106.46295040925372\n",
      "107.73340137913915\n",
      "113.7588610543578\n",
      "117.76232675990768\n",
      "125.15958310370331\n",
      "125.44271660667835\n",
      "119.27060951742467\n",
      "118.54833655540565\n",
      "127.5302506960214\n",
      "141.58442045885016\n",
      "174.48213192770368\n",
      "201.80744340595294\n",
      "193.7444614940835\n",
      "201.04809244269518\n",
      "-128.00915736966974\n",
      "-111.85710578477216\n",
      "-102.60889071549502\n",
      "-96.57501146888646\n",
      "-83.02924222372788\n",
      "-74.02188916749529\n",
      "-66.16045197608787\n",
      "-56.99047301976353\n",
      "-48.54337854896168\n",
      "-43.5287022437784\n",
      "-42.79105635048691\n",
      "-37.01707609493823\n",
      "-43.66345784740848\n",
      "-38.18506220012936\n",
      "-32.643089053909414\n",
      "-28.658374002666825\n",
      "-20.32071980695558\n",
      "-11.405164948805385\n",
      "-9.410401653104906\n",
      "-2.223814665408433\n",
      "9.76339988366911\n",
      "25.05053899902074\n",
      "14.465790498681066\n",
      "4.398309629706553\n",
      "15.500850718779951\n",
      "24.35719622418403\n",
      "35.85858461742518\n",
      "45.48207031484055\n",
      "24.57430355379484\n",
      "25.106997910274444\n"
     ]
    }
   ],
   "source": [
    "for i in range(100):\n",
    "    print(euler1_[i][2] - euler2[i][2])"
   ]
  }
 ],
 "metadata": {
  "kernelspec": {
   "display_name": "Python 3",
   "language": "python",
   "name": "python3"
  },
  "language_info": {
   "codemirror_mode": {
    "name": "ipython",
    "version": 3
   },
   "file_extension": ".py",
   "mimetype": "text/x-python",
   "name": "python",
   "nbconvert_exporter": "python",
   "pygments_lexer": "ipython3",
   "version": "3.8.10"
  },
  "orig_nbformat": 4
 },
 "nbformat": 4,
 "nbformat_minor": 2
}
