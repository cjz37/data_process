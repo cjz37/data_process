{
 "cells": [
  {
   "cell_type": "code",
   "execution_count": 1,
   "metadata": {},
   "outputs": [],
   "source": [
    "import math\n",
    "import csv\n",
    "from scipy.spatial.transform import Rotation as R\n",
    "from scipy.interpolate import interp1d\n",
    "import matplotlib.pyplot as plt\n",
    "import rosbag\n",
    "from sensor_msgs.msg import Imu, NavSatFix\n",
    "import scipy.io as sio\n",
    "import numpy as np\n",
    "from collections import OrderedDict"
   ]
  },
  {
   "cell_type": "code",
   "execution_count": 2,
   "metadata": {},
   "outputs": [],
   "source": [
    "data_path = '/home/crange/dev/calib_ws/datas/calib_data_52_1hz'"
   ]
  },
  {
   "cell_type": "code",
   "execution_count": 4,
   "metadata": {},
   "outputs": [],
   "source": [
    "f = open(data_path + '/lidar_slam_pose.txt')\n",
    "data_line = f.readline()\n",
    "datas1 = []\n",
    "while data_line:\n",
    "    d = data_line.replace('\\n', '').split()\n",
    "    datas1.append(d)\n",
    "    data_line = f.readline()\n",
    "\n",
    "euler1 = []\n",
    "for i in range(len(datas1)):\n",
    "    temp_q = [float(datas1[i][4]), float(datas1[i][5]), float(datas1[i][6]), float(datas1[i][7])]\n",
    "    r = R.from_quat(temp_q)\n",
    "    temp_euler = r.as_euler('xyz', degrees=True)\n",
    "    euler1.append(temp_euler)"
   ]
  },
  {
   "cell_type": "code",
   "execution_count": 9,
   "metadata": {},
   "outputs": [],
   "source": [
    "f = open(data_path + '/odometry_loc.txt')\n",
    "data_line = f.readline()\n",
    "datas2 = []\n",
    "while data_line:\n",
    "    d = data_line.replace('\\n', '').split()\n",
    "    datas2.append(d)\n",
    "    data_line = f.readline()\n",
    "\n",
    "euler2 = []\n",
    "for i in range(len(datas2)):\n",
    "    temp_q = [float(datas2[i][4]), float(datas2[i][5]), float(datas2[i][6]), float(datas2[i][7])]\n",
    "    r = R.from_quat(temp_q)\n",
    "    temp_euler = r.as_euler('xyz', degrees=True)\n",
    "    euler2.append(temp_euler)"
   ]
  },
  {
   "cell_type": "code",
   "execution_count": 21,
   "metadata": {},
   "outputs": [
    {
     "data": {
      "image/png": "[encoded data removed]",
      "text/plain": [
       "<Figure size 640x480 with 1 Axes>"
      ]
     },
     "metadata": {},
     "output_type": "display_data"
    }
   ],
   "source": [
    "x = []\n",
    "y1 = []\n",
    "y2 = []\n",
    "for i in range(len(euler1)):\n",
    "    x.append(i + 1)\n",
    "    y1.append(euler1[i][2]) \n",
    "    y2.append(euler2[i][2]) \n",
    "\n",
    "plt.title('1hz')\n",
    "plt.scatter(x, y1, 0.5, color='red')\n",
    "plt.scatter(x, y2, 0.5, color='green')\n",
    "plt.show()"
   ]
  }
 ],
 "metadata": {
  "kernelspec": {
   "display_name": "Python 3",
   "language": "python",
   "name": "python3"
  },
  "language_info": {
   "codemirror_mode": {
    "name": "ipython",
    "version": 3
   },
   "file_extension": ".py",
   "mimetype": "text/x-python",
   "name": "python",
   "nbconvert_exporter": "python",
   "pygments_lexer": "ipython3",
   "version": "3.8.10"
  },
  "orig_nbformat": 4
 },
 "nbformat": 4,
 "nbformat_minor": 2
}
