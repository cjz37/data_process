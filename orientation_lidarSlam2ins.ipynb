{
 "cells": [
  {
   "attachments": {},
   "cell_type": "markdown",
   "metadata": {},
   "source": [
    "## 1. 加载lidar_slam数据和惯导数据"
   ]
  },
  {
   "cell_type": "code",
   "execution_count": 41,
   "metadata": {},
   "outputs": [],
   "source": [
    "import numpy as np\n",
    "import math\n",
    "from scipy.spatial.transform import Rotation as R\n",
    "\n",
    "f = open(\"123/lidar_slam_pose.txt\", encoding=\"utf-8\")\n",
    "line1 = 0\n",
    "\n",
    "data_line = f.readline()\n",
    "datas1 = []\n",
    "while data_line:\n",
    "    d = data_line.replace('\\n', '').split(\"\\t\")\n",
    "    datas1.append(d)\n",
    "    data_line = f.readline()\n",
    "    line1 += 1\n",
    "\n",
    "\n",
    "f = open(\"123/odometry_loc.txt\", encoding=\"utf-8\")\n",
    "line2 = 0\n",
    "\n",
    "data_line = f.readline()\n",
    "datas2 = []\n",
    "while data_line:\n",
    "    d = data_line.replace('\\n', '').split(\"\\t\")\n",
    "    datas2.append(d)\n",
    "    data_line = f.readline()\n",
    "    line2 += 1"
   ]
  },
  {
   "attachments": {},
   "cell_type": "markdown",
   "metadata": {},
   "source": [
    "## 2. 用lidar_slam的orientation替换惯导中的orientation"
   ]
  },
  {
   "cell_type": "code",
   "execution_count": 42,
   "metadata": {},
   "outputs": [],
   "source": [
    "new_datas = []\n",
    "for i in range(line1):\n",
    "    new_datas.append([datas2[i][0], datas2[i][1], datas2[i][2], datas2[i][3], datas1[i][4], datas1[i][5], datas1[i][6], datas1[i][7]])"
   ]
  },
  {
   "cell_type": "markdown",
   "metadata": {},
   "source": [
    "### save as txt"
   ]
  },
  {
   "attachments": {},
   "cell_type": "markdown",
   "metadata": {},
   "source": [
    "#### 用于pose_align"
   ]
  },
  {
   "cell_type": "code",
   "execution_count": 43,
   "metadata": {},
   "outputs": [],
   "source": [
    "output = \"123/odometry_loc_new.txt\"\n",
    "with open(output, \"w\", encoding=\"utf-8\") as file1:\n",
    "    for i in range(line1):\n",
    "        print(new_datas[i][0], new_datas[i][1], new_datas[i][2], new_datas[i][3], new_datas[i][4], new_datas[i][5], new_datas[i][6], new_datas[i][7], file=file1)"
   ]
  },
  {
   "attachments": {},
   "cell_type": "markdown",
   "metadata": {},
   "source": [
    "#### 用于OpenCalib"
   ]
  },
  {
   "cell_type": "code",
   "execution_count": 49,
   "metadata": {},
   "outputs": [],
   "source": [
    "output2 = \"123/synced.txt\"\n",
    "with open(output2, \"w\", encoding=\"utf-8\") as file2:\n",
    "    for i in range(line1):\n",
    "        q = [new_datas[i][4], new_datas[i][5], new_datas[i][6], new_datas[i][7]]\n",
    "        r = R.from_quat(q)\n",
    "        rm = r.as_matrix()\n",
    "        print(str(round(float(new_datas[i][0]), 6)) + '000', \n",
    "              round(float(rm[0][0]), 9), round(float(rm[0][1]), 9), round(float(rm[0][2]), 9), round(float(new_datas[i][1]), 9),\n",
    "              round(float(rm[1][0]), 9), round(float(rm[1][1]), 9), round(float(rm[1][2]), 9), round(float(new_datas[i][2]), 9),\n",
    "              round(float(rm[2][0]), 9), round(float(rm[2][1]), 9), round(float(rm[2][2]), 9), round(float(new_datas[i][3]), 9), file=file2)"
   ]
  }
 ],
 "metadata": {
  "kernelspec": {
   "display_name": "Python 3",
   "language": "python",
   "name": "python3"
  },
  "language_info": {
   "codemirror_mode": {
    "name": "ipython",
    "version": 3
   },
   "file_extension": ".py",
   "mimetype": "text/x-python",
   "name": "python",
   "nbconvert_exporter": "python",
   "pygments_lexer": "ipython3",
   "version": "3.8.10"
  },
  "orig_nbformat": 4
 },
 "nbformat": 4,
 "nbformat_minor": 2
}
