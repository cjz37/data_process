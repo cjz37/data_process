{
 "cells": [
  {
   "cell_type": "code",
   "execution_count": 1,
   "metadata": {},
   "outputs": [],
   "source": [
    "import rosbag\n",
    "import scipy.io as sio\n",
    "import numpy as np\n",
    "from pyproj import CRS, Transformer\n",
    "import matplotlib.pyplot as plt\n",
    "import math\n",
    "import rospy\n",
    "from sensor_msgs.msg import Imu, NavSatFix"
   ]
  },
  {
   "attachments": {},
   "cell_type": "markdown",
   "metadata": {},
   "source": [
    "## 获取IMU和GPS数据"
   ]
  },
  {
   "cell_type": "code",
   "execution_count": 4,
   "metadata": {},
   "outputs": [
    {
     "name": "stdout",
     "output_type": "stream",
     "text": [
      "18365 183\n"
     ]
    }
   ],
   "source": [
    "file_path = \"/home/crange/dev/calib_ws/calib_data_52/2023-07-12-10-52-56.bag\"\n",
    "bag = rosbag.Bag(file_path)\n",
    "bno055_imu_raw = []\n",
    "gps_ori = []\n",
    "\n",
    "for topic, msg, t in bag.read_messages():\n",
    "    if topic == \"/bno055_imu/raw\":\n",
    "        bno055_imu_raw.append(msg)\n",
    "    if topic == \"/gps_ori\":\n",
    "        gps_ori.append(msg)\n",
    "    \n",
    "print(len(bno055_imu_raw), len(gps_ori))"
   ]
  },
  {
   "cell_type": "code",
   "execution_count": 5,
   "metadata": {},
   "outputs": [
    {
     "data": {
      "text/plain": [
       "header: \n",
       "  seq: 17173\n",
       "  stamp: \n",
       "    secs: 1689130376\n",
       "    nsecs: 541602979\n",
       "  frame_id: \"gyro_link\"\n",
       "orientation: \n",
       "  x: 0.0\n",
       "  y: 0.0\n",
       "  z: 0.9742250442504883\n",
       "  w: 0.21797947585582733\n",
       "orientation_covariance: [1000000.0, 0.0, 0.0, 0.0, 1000000.0, 0.0, 0.0, 0.0, 1e-06]\n",
       "angular_velocity: \n",
       "  x: -0.0022222222222222222\n",
       "  y: 0.0022222222222222222\n",
       "  z: 0.0003333334192737109\n",
       "angular_velocity_covariance: [1000000.0, 0.0, 0.0, 0.0, 1000000.0, 0.0, 0.0, 0.0, 1e-06]\n",
       "linear_acceleration: \n",
       "  x: 0.03\n",
       "  y: -0.3\n",
       "  z: 9.69\n",
       "linear_acceleration_covariance: [0.0, 0.0, 0.0, 0.0, 0.0, 0.0, 0.0, 0.0, 0.0]"
      ]
     },
     "execution_count": 5,
     "metadata": {},
     "output_type": "execute_result"
    }
   ],
   "source": [
    "bno055_imu_raw[0]"
   ]
  },
  {
   "cell_type": "code",
   "execution_count": 107,
   "metadata": {},
   "outputs": [
    {
     "data": {
      "text/plain": [
       "header: \n",
       "  seq: 1\n",
       "  stamp: \n",
       "    secs: 1689130377\n",
       "    nsecs: 210824012\n",
       "  frame_id: \"gps_frame\"\n",
       "status: \n",
       "  status: 0\n",
       "  service: 0\n",
       "latitude: 31.272108000000003\n",
       "longitude: 121.1712845\n",
       "altitude: 4.7\n",
       "position_covariance: [0.0, 0.0, 0.0, 0.0, 0.0, 0.0, 0.0, 0.0, 0.0]\n",
       "position_covariance_type: 4"
      ]
     },
     "execution_count": 107,
     "metadata": {},
     "output_type": "execute_result"
    }
   ],
   "source": [
    "gps_ori[0]"
   ]
  },
  {
   "cell_type": "code",
   "execution_count": 108,
   "metadata": {},
   "outputs": [],
   "source": [
    "i = 0\n",
    "imu_msg = Imu()\n",
    "imu_msg.header.stamp = bno055_imu_raw[i].header.stamp\n",
    "imu_msg.header.frame_id = bno055_imu_raw[i].header.frame_id\n",
    "imu_msg.orientation.x = bno055_imu_raw[i].orientation.x\n",
    "imu_msg.orientation.y = bno055_imu_raw[i].orientation.y\n",
    "imu_msg.orientation.z = bno055_imu_raw[i].orientation.z\n",
    "imu_msg.orientation.w = bno055_imu_raw[i].orientation.w\n",
    "imu_msg.orientation_covariance = bno055_imu_raw[i].orientation_covariance\n",
    "imu_msg.angular_velocity.x = bno055_imu_raw[i].angular_velocity.x\n",
    "imu_msg.angular_velocity.y = bno055_imu_raw[i].angular_velocity.y\n",
    "imu_msg.angular_velocity.z = bno055_imu_raw[i].angular_velocity.z\n",
    "imu_msg.angular_velocity_covariance = bno055_imu_raw[i].angular_velocity_covariance\n",
    "imu_msg.linear_acceleration.x = bno055_imu_raw[i].linear_acceleration.y\n",
    "imu_msg.linear_acceleration.y = bno055_imu_raw[i].linear_acceleration.x\n",
    "imu_msg.linear_acceleration.z = bno055_imu_raw[i].linear_acceleration.z\n",
    "imu_msg.linear_acceleration_covariance = bno055_imu_raw[i].linear_acceleration_covariance"
   ]
  },
  {
   "cell_type": "code",
   "execution_count": 109,
   "metadata": {},
   "outputs": [
    {
     "data": {
      "text/plain": [
       "header: \n",
       "  seq: 0\n",
       "  stamp: \n",
       "    secs: 1689130376\n",
       "    nsecs: 541602979\n",
       "  frame_id: \"gyro_link\"\n",
       "orientation: \n",
       "  x: 0.0\n",
       "  y: 0.0\n",
       "  z: 0.9742250442504883\n",
       "  w: 0.21797947585582733\n",
       "orientation_covariance: [1000000.0, 0.0, 0.0, 0.0, 1000000.0, 0.0, 0.0, 0.0, 1e-06]\n",
       "angular_velocity: \n",
       "  x: -0.0022222222222222222\n",
       "  y: 0.0022222222222222222\n",
       "  z: 0.0003333334192737109\n",
       "angular_velocity_covariance: [1000000.0, 0.0, 0.0, 0.0, 1000000.0, 0.0, 0.0, 0.0, 1e-06]\n",
       "linear_acceleration: \n",
       "  x: -0.3\n",
       "  y: 0.03\n",
       "  z: 9.69\n",
       "linear_acceleration_covariance: [0.0, 0.0, 0.0, 0.0, 0.0, 0.0, 0.0, 0.0, 0.0]"
      ]
     },
     "execution_count": 109,
     "metadata": {},
     "output_type": "execute_result"
    }
   ],
   "source": [
    "imu_msg"
   ]
  },
  {
   "cell_type": "code",
   "execution_count": 115,
   "metadata": {},
   "outputs": [],
   "source": [
    "save_file = 'datas/new_bag.bag'\n",
    "save_bag = rosbag.Bag(save_file, 'w')\n",
    "\n",
    "for i in range(len(bno055_imu_raw)):\n",
    "    imu_msg = Imu()\n",
    "    imu_msg.header.stamp = bno055_imu_raw[i].header.stamp\n",
    "    imu_msg.header.frame_id = bno055_imu_raw[i].header.frame_id\n",
    "    imu_msg.orientation.x = bno055_imu_raw[i].orientation.x\n",
    "    imu_msg.orientation.y = bno055_imu_raw[i].orientation.y\n",
    "    imu_msg.orientation.z = bno055_imu_raw[i].orientation.z\n",
    "    imu_msg.orientation.w = bno055_imu_raw[i].orientation.w\n",
    "    imu_msg.orientation_covariance = bno055_imu_raw[i].orientation_covariance\n",
    "    imu_msg.angular_velocity.x = bno055_imu_raw[i].angular_velocity.x\n",
    "    imu_msg.angular_velocity.y = bno055_imu_raw[i].angular_velocity.y\n",
    "    imu_msg.angular_velocity.z = bno055_imu_raw[i].angular_velocity.z\n",
    "    imu_msg.angular_velocity_covariance = bno055_imu_raw[i].angular_velocity_covariance\n",
    "    imu_msg.linear_acceleration.x = bno055_imu_raw[i].linear_acceleration.y\n",
    "    imu_msg.linear_acceleration.y = bno055_imu_raw[i].linear_acceleration.x\n",
    "    imu_msg.linear_acceleration.z = bno055_imu_raw[i].linear_acceleration.z\n",
    "    imu_msg.linear_acceleration_covariance = bno055_imu_raw[i].linear_acceleration_covariance\n",
    "    save_bag.write('/imu/data', imu_msg)\n",
    "\n",
    "\n",
    "for i in range(len(gps_ori)):\n",
    "    fix_msg = NavSatFix()\n",
    "    fix_msg.header.stamp = gps_ori[i].header.stamp\n",
    "    fix_msg.header.frame_id = gps_ori[i].header.frame_id\n",
    "    fix_msg.status.status = gps_ori[i].status.status\n",
    "    fix_msg.status.service = gps_ori[i].status.service\n",
    "    fix_msg.latitude = gps_ori[i].latitude\n",
    "    fix_msg.longitude = gps_ori[i].longitude\n",
    "    fix_msg.altitude = gps_ori[i].altitude\n",
    "    fix_msg.position_covariance = gps_ori[i].position_covariance\n",
    "    fix_msg.position_covariance_type = gps_ori[i].position_covariance_type\n",
    "    save_bag.write('/fix', fix_msg)\n",
    "\n",
    "save_bag.close()"
   ]
  },
  {
   "attachments": {},
   "cell_type": "markdown",
   "metadata": {},
   "source": [
    "## WGS84转ENU"
   ]
  },
  {
   "cell_type": "code",
   "execution_count": null,
   "metadata": {},
   "outputs": [],
   "source": [
    "gps = []\n",
    "for i in range(len(gps_ori)):\n",
    "    gps.append([gps_ori[i].longitude, gps_ori[i].latitude, gps_ori[i].altitude])"
   ]
  },
  {
   "cell_type": "code",
   "execution_count": null,
   "metadata": {},
   "outputs": [],
   "source": [
    "enu_crs = CRS.from_string(\"+proj=utm +zone=50 +ellps=GRS80 +units=m +no_defs\")\n",
    "wgs84_crs = CRS.from_string(\"+proj=longlat +datum=WGS84 +no_defs\")\n",
    "trans_wgs84_to_enu = Transformer.from_crs(wgs84_crs, enu_crs)"
   ]
  },
  {
   "cell_type": "code",
   "execution_count": null,
   "metadata": {},
   "outputs": [],
   "source": [
    "enu = []\n",
    "base_enu = np.mat([trans_wgs84_to_enu.transform(gps[0][0], gps[0][1], gps[0][2])])\n",
    "for i in range(len(gps_ori)):\n",
    "    temp_enu = np.mat([trans_wgs84_to_enu.transform(gps[i][0], gps[i][1], gps[i][2])])\n",
    "    enu.append(temp_enu - base_enu)"
   ]
  },
  {
   "cell_type": "code",
   "execution_count": null,
   "metadata": {},
   "outputs": [],
   "source": [
    "x = []\n",
    "y = []\n",
    "for i in range(len(gps_ori)):\n",
    "    x.append(enu[i][0, 0])\n",
    "    y.append(enu[i][0, 1])"
   ]
  },
  {
   "cell_type": "code",
   "execution_count": null,
   "metadata": {},
   "outputs": [
    {
     "data": {
      "image/png": "[encoded data removed]",
      "text/plain": [
       "<Figure size 640x480 with 1 Axes>"
      ]
     },
     "metadata": {},
     "output_type": "display_data"
    }
   ],
   "source": [
    "plt.title('gps_ori')\n",
    "plt.scatter(x, y, 0.3)\n",
    "plt.show()"
   ]
  },
  {
   "attachments": {},
   "cell_type": "markdown",
   "metadata": {},
   "source": [
    "## 使用旋转矩阵修正符号"
   ]
  },
  {
   "cell_type": "code",
   "execution_count": null,
   "metadata": {},
   "outputs": [
    {
     "name": "stdout",
     "output_type": "stream",
     "text": [
      "[[-0.3 ]\n",
      " [ 0.03]\n",
      " [-9.69]]\n",
      "[[ 0.03]\n",
      " [-0.3 ]\n",
      " [ 9.69]]\n"
     ]
    }
   ],
   "source": [
    "t = 0\n",
    "acc = np.mat([[bno055_imu_raw[t].linear_acceleration.x], \n",
    "             [bno055_imu_raw[t].linear_acceleration.y], \n",
    "             [-bno055_imu_raw[t].linear_acceleration.z]])\n",
    "Rotatione3D = np.mat([[0.0000000,1.0000000,-0.0000000],\n",
    "                      [1.0000000,0.0000000,-0.0000000],\n",
    "                      [0.0000000,-0.0000000,-1.0000000]])\n",
    "print(acc)\n",
    "print(Rotatione3D * acc)"
   ]
  }
 ],
 "metadata": {
  "kernelspec": {
   "display_name": "Python 3",
   "language": "python",
   "name": "python3"
  },
  "language_info": {
   "codemirror_mode": {
    "name": "ipython",
    "version": 3
   },
   "file_extension": ".py",
   "mimetype": "text/x-python",
   "name": "python",
   "nbconvert_exporter": "python",
   "pygments_lexer": "ipython3",
   "version": "3.8.10"
  },
  "orig_nbformat": 4
 },
 "nbformat": 4,
 "nbformat_minor": 2
}
