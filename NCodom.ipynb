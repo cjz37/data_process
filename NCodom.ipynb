{
 "cells": [
  {
   "cell_type": "code",
   "execution_count": 31,
   "metadata": {},
   "outputs": [],
   "source": [
    "import math\n",
    "import csv\n",
    "from scipy.spatial.transform import Rotation as R\n",
    "from scipy.interpolate import interp1d\n",
    "import matplotlib.pyplot as plt\n",
    "import rosbag\n",
    "from sensor_msgs.msg import Imu, NavSatFix\n",
    "import scipy.io as sio\n",
    "import numpy as np\n",
    "from collections import OrderedDict\n",
    "from pyproj import CRS, Transformer"
   ]
  },
  {
   "cell_type": "code",
   "execution_count": 2,
   "metadata": {},
   "outputs": [],
   "source": [
    "bag = rosbag.Bag('/home/crange/dev/calib_ws/datas/calib_data_car/car.bag')\n",
    "ins = []\n",
    "imu = []\n",
    "for topic, msg, t in bag.read_messages():\n",
    "    if topic == \"/novatel/oem7/inspva\":\n",
    "        ins.append(msg)"
   ]
  },
  {
   "cell_type": "code",
   "execution_count": 30,
   "metadata": {},
   "outputs": [
    {
     "data": {
      "text/plain": [
       "header: \n",
       "  seq: 24568\n",
       "  stamp: \n",
       "    secs: 1681545158\n",
       "    nsecs: 566694736\n",
       "  frame_id: \"gps\"\n",
       "nov_header: \n",
       "  message_name: \"INSPVA\"\n",
       "  message_id: 508\n",
       "  message_type: 0\n",
       "  sequence_number: 0\n",
       "  time_status: 20\n",
       "  gps_week_number: 2258\n",
       "  gps_week_milliseconds: 13372464\n",
       "latitude: 31.271589488276586\n",
       "longitude: 121.174487036288\n",
       "height: 14.175300693139434\n",
       "north_velocity: -0.07724594409021268\n",
       "east_velocity: 0.05496245694021237\n",
       "up_velocity: -0.002282923715195201\n",
       "roll: 0.19605653727325859\n",
       "pitch: 0.3173999522858294\n",
       "azimuth: 146.32143085088416\n",
       "status: \n",
       "  status: 3"
      ]
     },
     "execution_count": 30,
     "metadata": {},
     "output_type": "execute_result"
    }
   ],
   "source": [
    "ins[0]"
   ]
  },
  {
   "cell_type": "code",
   "execution_count": 61,
   "metadata": {},
   "outputs": [],
   "source": [
    "enu_crs = CRS.from_string(\"+proj=utm +zone=50 +ellps=GRS80 +units=m +no_defs\")\n",
    "wgs84_crs = CRS.from_string(\"+proj=longlat +datum=WGS84 +no_defs\")\n",
    "trans_wgs84_to_enu = Transformer.from_crs(wgs84_crs, enu_crs)\n",
    "\n",
    "output = []\n",
    "base_enu = np.mat([trans_wgs84_to_enu.transform(ins[0].longitude, ins[0].latitude, ins[0].height)])\n",
    "for i in range(len(ins)):\n",
    "    timestamp = ins[i].header.stamp.secs + ins[i].header.stamp.nsecs * 1e-9\n",
    "    enu = np.mat([trans_wgs84_to_enu.transform(ins[i].longitude, ins[i].latitude, ins[i].height)]) - base_enu\n",
    "    euler = [ins[i].roll, ins[i].pitch, ins[i].azimuth]\n",
    "    q = R.from_euler('xyz', euler, degrees=True).as_quat()\n",
    "    output.append([round(timestamp, 9), \n",
    "                   round(enu[0, 0], 9), round(enu[0, 1], 9), round(enu[0, 2], 9),\n",
    "                   round(q[0], 9), round(q[1], 9), round(q[2], 9), round(q[3], 9)])"
   ]
  },
  {
   "cell_type": "code",
   "execution_count": 66,
   "metadata": {},
   "outputs": [],
   "source": [
    "output[0]\n",
    "save_txt = 'output/car_odom.txt'\n",
    "with open(save_txt, 'w', encoding='utf-8') as f:\n",
    "    for i in range(len(output)):\n",
    "        print(\"{:.{}f}\\t{:.{}f}\\t{:.{}f}\\t{:.{}f}\\t{:.{}f}\\t{:.{}f}\\t{:.{}f}\\t{:.{}f}\"\n",
    "              .format(output[i][0], 9,\n",
    "                      output[i][1], 9,\n",
    "                      output[i][2], 9,\n",
    "                      output[i][3], 9,\n",
    "                      output[i][4], 9,\n",
    "                      output[i][5], 9,\n",
    "                      output[i][6], 9,\n",
    "                      output[i][7], 9), file=f)"
   ]
  }
 ],
 "metadata": {
  "kernelspec": {
   "display_name": "Python 3",
   "language": "python",
   "name": "python3"
  },
  "language_info": {
   "codemirror_mode": {
    "name": "ipython",
    "version": 3
   },
   "file_extension": ".py",
   "mimetype": "text/x-python",
   "name": "python",
   "nbconvert_exporter": "python",
   "pygments_lexer": "ipython3",
   "version": "3.8.10"
  },
  "orig_nbformat": 4
 },
 "nbformat": 4,
 "nbformat_minor": 2
}
