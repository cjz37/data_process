{
 "cells": [
  {
   "cell_type": "code",
   "execution_count": 39,
   "metadata": {},
   "outputs": [],
   "source": [
    "import rosbag\n",
    "from sensor_msgs.msg import Imu, NavSatFix\n",
    "import scipy.io as sio\n",
    "from scipy.spatial.transform import Rotation as R\n",
    "from scipy.interpolate import interp1d\n",
    "import numpy as np"
   ]
  },
  {
   "attachments": {},
   "cell_type": "markdown",
   "metadata": {},
   "source": [
    "### load data"
   ]
  },
  {
   "cell_type": "code",
   "execution_count": 2,
   "metadata": {},
   "outputs": [],
   "source": [
    "bag = rosbag.Bag('/home/crange/dev/calib_ws/calib_data/car.bag')\n",
    "ins = []\n",
    "imu = []\n",
    "for topic, msg, t in bag.read_messages():\n",
    "    if topic == \"/novatel/oem7/inspva\":\n",
    "        ins.append(msg)\n",
    "    if topic == \"/imu/data\":\n",
    "        imu.append(msg)"
   ]
  },
  {
   "cell_type": "code",
   "execution_count": 48,
   "metadata": {},
   "outputs": [],
   "source": [
    "e = []\n",
    "for i in range(len(ins)):\n",
    "    e.append([ins[i].roll, ins[i].pitch, ins[i].azimuth])\n",
    "\n",
    "euler = np.array(e)"
   ]
  },
  {
   "cell_type": "code",
   "execution_count": 51,
   "metadata": {},
   "outputs": [],
   "source": [
    "x = np.linspace(0, 1, len(euler))\n",
    "f = interp1d(x, euler, axis=0)\n",
    "\n",
    "new_x = np.linspace(0, 1, 5384)\n",
    "new_euler = f(new_x)"
   ]
  },
  {
   "cell_type": "code",
   "execution_count": 53,
   "metadata": {},
   "outputs": [
    {
     "data": {
      "text/plain": [
       "5384"
      ]
     },
     "execution_count": 53,
     "metadata": {},
     "output_type": "execute_result"
    }
   ],
   "source": [
    "len(new_euler)"
   ]
  },
  {
   "cell_type": "code",
   "execution_count": 15,
   "metadata": {},
   "outputs": [],
   "source": [
    "output_data = []\n",
    "for i in range(len(ins)):\n",
    "    t = ins[i].header.stamp.secs + ins[i].header.stamp.nsecs * 1e-9\n",
    "    r = R.from_euler('xyz', [ins[i].roll, ins[i].pitch, ins[i].azimuth])\n",
    "    q = r.as_quat()  # xyzw\n",
    "    output_data.append([round(t, 9), 0.0, 0.0, 0.0, round(q[0], 9), round(q[1], 9), round(q[2], 9), round(q[3], 9)])"
   ]
  },
  {
   "cell_type": "code",
   "execution_count": 19,
   "metadata": {},
   "outputs": [],
   "source": [
    "save_path = 'output/odometry.txt'\n",
    "\n",
    "with open(save_path, \"w\", encoding=\"utf-8\") as file1:\n",
    "    for i in range(len(ins)):\n",
    "        print(\"{:.{}f}\\t{:.{}f}\\t{:.{}f}\\t{:.{}f}\\t{:.{}f}\\t{:.{}f}\\t{:.{}f}\\t{:.{}f}\".\n",
    "              format(output_data[i][0], 9, \n",
    "                     output_data[i][1], 9,\n",
    "                     output_data[i][2], 9,\n",
    "                     output_data[i][3], 9,\n",
    "                     output_data[i][4], 9,\n",
    "                     output_data[i][5], 9,\n",
    "                     output_data[i][6], 9,\n",
    "                     output_data[i][7], 9), file=file1)\n",
    "        # print(output_data[i][0], output_data[i][1], output_data[i][2], output_data[i][3], output_data[i][4], output_data[i][5], output_data[i][6], output_data[i][7], file=file1)"
   ]
  },
  {
   "attachments": {},
   "cell_type": "markdown",
   "metadata": {},
   "source": [
    "### imu output"
   ]
  },
  {
   "cell_type": "code",
   "execution_count": 34,
   "metadata": {},
   "outputs": [],
   "source": [
    "temp1 = []\n",
    "temp2 = []\n",
    "temp3 = []\n",
    "temp4 = []\n",
    "temp5 = []\n",
    "temp6 = []\n",
    "temp7 = []\n",
    "for i in range(len(imu)):\n",
    "    temp1.append(float(imu[i].header.stamp.secs + imu[i].header.stamp.nsecs * 1e-9))\n",
    "    temp2.append(float(imu[i].angular_velocity.x))\n",
    "    temp3.append(float(imu[i].angular_velocity.y))\n",
    "    temp4.append(float(imu[i].angular_velocity.z))\n",
    "    temp5.append(float(imu[i].linear_acceleration.x))\n",
    "    temp6.append(float(imu[i].linear_acceleration.y))\n",
    "    temp7.append(float(imu[i].linear_acceleration.z))\n",
    "output_imu = {'timestamp': temp1, \n",
    "              'angular_velocity_x': temp2, 'angular_velocity_y': temp3, 'angular_velocity_z': temp4, \n",
    "              'linear_acceleration_x': temp5, 'linear_acceleration_y': temp6, 'linear_acceleration_z': temp7}"
   ]
  },
  {
   "attachments": {},
   "cell_type": "markdown",
   "metadata": {},
   "source": [
    "### gps output"
   ]
  },
  {
   "cell_type": "code",
   "execution_count": 40,
   "metadata": {},
   "outputs": [],
   "source": [
    "temp1 = []\n",
    "temp2 = []\n",
    "temp3 = []\n",
    "temp4 = []\n",
    "temp5 = []\n",
    "for i in range(len(ins)):\n",
    "    temp1.append(float(ins[i].header.stamp.secs + ins[i].header.stamp.nsecs * 1e-9))\n",
    "    temp2.append(float(ins[i].latitude))\n",
    "    temp3.append(float(ins[i].longitude))\n",
    "    temp4.append(float(ins[i].height))\n",
    "    temp5.append(float(4.0))\n",
    "output_gps = {'timestamp': temp1, \n",
    "              'latitude': temp2, 'longitude': temp3, 'altitude': temp4, 'position_covariance_type': temp5}"
   ]
  },
  {
   "attachments": {},
   "cell_type": "markdown",
   "metadata": {},
   "source": [
    "### save matfile"
   ]
  },
  {
   "cell_type": "code",
   "execution_count": 41,
   "metadata": {},
   "outputs": [],
   "source": [
    "imu_savepath = \"output/imu.mat\"\n",
    "gps_savepath = \"output/gps.mat\"\n",
    "\n",
    "sio.savemat(imu_savepath, output_imu)\n",
    "sio.savemat(gps_savepath, output_gps)"
   ]
  },
  {
   "cell_type": "code",
   "execution_count": 43,
   "metadata": {},
   "outputs": [],
   "source": [
    "load_imu = sio.loadmat(imu_savepath)"
   ]
  },
  {
   "attachments": {},
   "cell_type": "markdown",
   "metadata": {},
   "source": [
    "### other"
   ]
  },
  {
   "cell_type": "code",
   "execution_count": 12,
   "metadata": {},
   "outputs": [],
   "source": [
    "bag = rosbag.Bag('/home/crange/dev/calib_ws/calib_data_52/2023-07-12-10-52-56.bag')\n",
    "save_bag = rosbag.Bag('datas/new_bag.bag', 'w')\n",
    "\n",
    "for topic, msg, t in bag.read_messages():\n",
    "    if topic == '/bno055_imu/raw':\n",
    "        imu_msg = Imu()\n",
    "        imu_msg.header.stamp = msg.header.stamp\n",
    "        imu_msg.header.frame_id = msg.header.frame_id\n",
    "        imu_msg.orientation.x = msg.orientation.x\n",
    "        imu_msg.orientation.y = msg.orientation.y\n",
    "        imu_msg.orientation.z = msg.orientation.z\n",
    "        imu_msg.orientation.w = msg.orientation.w\n",
    "        imu_msg.orientation_covariance = msg.orientation_covariance\n",
    "        imu_msg.angular_velocity.x = msg.angular_velocity.x\n",
    "        imu_msg.angular_velocity.y = msg.angular_velocity.y\n",
    "        imu_msg.angular_velocity.z = msg.angular_velocity.z\n",
    "        imu_msg.angular_velocity_covariance = msg.angular_velocity_covariance\n",
    "        imu_msg.linear_acceleration.x = msg.linear_acceleration.y\n",
    "        imu_msg.linear_acceleration.y = msg.linear_acceleration.x\n",
    "        imu_msg.linear_acceleration.z = msg.linear_acceleration.z\n",
    "        imu_msg.linear_acceleration_covariance = msg.linear_acceleration_covariance\n",
    "        save_bag.write('/imu/data', imu_msg)\n",
    "    if topic == '/gps_ori':\n",
    "        fix_msg = NavSatFix()\n",
    "        fix_msg = NavSatFix()\n",
    "        fix_msg.header.stamp = msg.header.stamp\n",
    "        fix_msg.header.frame_id = msg.header.frame_id\n",
    "        fix_msg.status.status = msg.status.status\n",
    "        fix_msg.status.service = msg.status.service\n",
    "        fix_msg.latitude = msg.latitude\n",
    "        fix_msg.longitude = msg.longitude\n",
    "        fix_msg.altitude = msg.altitude\n",
    "        fix_msg.position_covariance = msg.position_covariance\n",
    "        fix_msg.position_covariance_type = msg.position_covariance_type\n",
    "        save_bag.write('/fix', fix_msg)\n",
    "\n",
    "bag.close()\n",
    "save_bag.close()"
   ]
  }
 ],
 "metadata": {
  "kernelspec": {
   "display_name": "Python 3",
   "language": "python",
   "name": "python3"
  },
  "language_info": {
   "codemirror_mode": {
    "name": "ipython",
    "version": 3
   },
   "file_extension": ".py",
   "mimetype": "text/x-python",
   "name": "python",
   "nbconvert_exporter": "python",
   "pygments_lexer": "ipython3",
   "version": "3.8.10"
  },
  "orig_nbformat": 4
 },
 "nbformat": 4,
 "nbformat_minor": 2
}
