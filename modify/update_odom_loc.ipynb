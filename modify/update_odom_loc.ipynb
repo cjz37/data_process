{
 "cells": [
  {
   "cell_type": "code",
   "execution_count": 40,
   "metadata": {},
   "outputs": [],
   "source": [
    "import math\n",
    "import csv\n",
    "from scipy.spatial.transform import Rotation as R\n",
    "from scipy.interpolate import interp1d\n",
    "import matplotlib.pyplot as plt\n",
    "import rosbag\n",
    "from sensor_msgs.msg import Imu, NavSatFix\n",
    "import scipy.io as sio\n",
    "import numpy as np\n",
    "from collections import OrderedDict"
   ]
  },
  {
   "cell_type": "code",
   "execution_count": 41,
   "metadata": {},
   "outputs": [],
   "source": [
    "data_path = '/home/crange/dev/calib_ws/datas/calib_data_52/degree2radian/XYZ'"
   ]
  },
  {
   "cell_type": "code",
   "execution_count": 42,
   "metadata": {},
   "outputs": [],
   "source": [
    "original_file = data_path + '/odometry.txt'\n",
    "\n",
    "f = open(original_file, encoding=\"utf-8\")\n",
    "\n",
    "data_line = f.readline()\n",
    "original_datas = []\n",
    "while data_line:\n",
    "    d = data_line.replace('\\n', '').split()\n",
    "    original_datas.append(d)\n",
    "    data_line = f.readline()\n",
    "\n",
    "f.close()"
   ]
  },
  {
   "cell_type": "markdown",
   "metadata": {},
   "source": [
    " - odometry_loc.txt modify\n"
   ]
  },
  {
   "cell_type": "code",
   "execution_count": 43,
   "metadata": {},
   "outputs": [],
   "source": [
    "modify = 0\n",
    "sub = -1.0\n",
    "output_data = []\n",
    "base_position = [float(original_datas[0][1]), float(original_datas[0][2]), float(original_datas[0][3])]\n",
    "for i in range(len(original_datas)):\n",
    "    timestamp = float(original_datas[i][0])\n",
    "    # x = float(original_datas[i][1]) - base_position[0]\n",
    "    # y = float(original_datas[i][2]) - base_position[1]\n",
    "    # z = float(original_datas[i][3]) - base_position[2]\n",
    "    x = float(original_datas[i][1])\n",
    "    y = float(original_datas[i][2])\n",
    "    z = float(original_datas[i][3])\n",
    "    qx = float(original_datas[i][4])\n",
    "    qy = float(original_datas[i][5])\n",
    "    qz = float(original_datas[i][6])\n",
    "    qw = float(original_datas[i][7])\n",
    "\n",
    "    r = R.from_quat([qx, qy, qz, qw])\n",
    "    euler_angle = r.as_euler('xyz', degrees=True)\n",
    "    euler_angle[2] = modify + sub * euler_angle[2]\n",
    "\n",
    "    r = R.from_euler('xyz', euler_angle, degrees=True)\n",
    "    q = r.as_quat()\n",
    "\n",
    "    output_data.append([timestamp, x, y, z, q[0], q[1], q[2], q[3]])"
   ]
  },
  {
   "cell_type": "code",
   "execution_count": 44,
   "metadata": {},
   "outputs": [],
   "source": [
    "save_file = data_path + '/odometry_.txt'\n",
    "fout = open(save_file, 'w', encoding='utf-8')\n",
    "for i in range(len(output_data)):\n",
    "    print('{:.{}f}\\t{:.{}f}\\t{:.{}f}\\t{:.{}f}\\t{:.{}f}\\t{:.{}f}\\t{:.{}f}\\t{:.{}f}'\n",
    "          .format(output_data[i][0], 9,\n",
    "                  output_data[i][1], 9,\n",
    "                  output_data[i][2], 9,\n",
    "                  output_data[i][3], 9,\n",
    "                  output_data[i][4], 9,\n",
    "                  output_data[i][5], 9,\n",
    "                  output_data[i][6], 9,\n",
    "                  output_data[i][7], 9), file=fout)\n",
    "\n",
    "fout.close()"
   ]
  }
 ],
 "metadata": {
  "kernelspec": {
   "display_name": "Python 3 (ipykernel)",
   "language": "python",
   "name": "python3"
  },
  "language_info": {
   "codemirror_mode": {
    "name": "ipython",
    "version": 3
   },
   "file_extension": ".py",
   "mimetype": "text/x-python",
   "name": "python",
   "nbconvert_exporter": "python",
   "pygments_lexer": "ipython3",
   "version": "3.8.10"
  }
 },
 "nbformat": 4,
 "nbformat_minor": 4
}
