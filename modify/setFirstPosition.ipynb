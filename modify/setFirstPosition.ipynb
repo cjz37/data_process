{
 "cells": [
  {
   "cell_type": "code",
   "execution_count": 1,
   "metadata": {},
   "outputs": [],
   "source": [
    "import rosbag\n",
    "import scipy.io as sio\n",
    "import numpy as np"
   ]
  },
  {
   "cell_type": "code",
   "execution_count": 2,
   "metadata": {},
   "outputs": [],
   "source": [
    "data_path = '/home/crange/dev/calib_ws/datas/calib_data_bj2'"
   ]
  },
  {
   "cell_type": "code",
   "execution_count": 3,
   "metadata": {},
   "outputs": [],
   "source": [
    "def NormalizeQuaternion(quaternion):\n",
    "    norm = np.linalg.norm(quaternion)\n",
    "    normalized_quaternion = quaternion / norm\n",
    "    return normalized_quaternion"
   ]
  },
  {
   "cell_type": "code",
   "execution_count": null,
   "metadata": {},
   "outputs": [],
   "source": [
    "f = open(data_path + '/lidar_slam_pose_ori.txt')\n",
    "data_line = f.readline()\n",
    "datas1 = []\n",
    "while data_line:\n",
    "    d = data_line.replace('\\n', '').split()\n",
    "    datas1.append(d)\n",
    "    data_line = f.readline()\n",
    "\n",
    "fout = open(data_path + '/lidar_slam_pose.txt', 'w', encoding='utf-8')\n",
    "for i in range(len(datas1)):\n",
    "    qx = float(datas1[i][4]) - float(datas1[0][4])\n",
    "    qy = float(datas1[i][5]) - float(datas1[0][5])\n",
    "    qz = float(datas1[i][6]) - float(datas1[0][6])\n",
    "    qw = float(datas1[i][7]) - float(datas1[0][7]) + 1.0\n",
    "    quaternion = np.array([qx, qy, qz, qw])\n",
    "    normalized_quaternion = NormalizeQuaternion(quaternion)\n",
    "    print('{:.{}f}\\t{:.{}f}\\t{:.{}f}\\t{:.{}f}\\t{:.{}f}\\t{:.{}f}\\t{:.{}f}\\t{:.{}f}'\n",
    "          .format(float(datas1[i][0]), 9,\n",
    "                  float(datas1[i][1]) - float(datas1[0][1]), 9,\n",
    "                  float(datas1[i][2]) - float(datas1[0][2]), 9,\n",
    "                  float(datas1[i][3]) - float(datas1[0][3]), 9,\n",
    "                  normalized_quaternion[0], 9,\n",
    "                  normalized_quaternion[1], 9,\n",
    "                  normalized_quaternion[2], 9,\n",
    "                  normalized_quaternion[3], 9), file=fout)\n",
    "    \n",
    "f.close()\n",
    "fout.close()"
   ]
  }
 ],
 "metadata": {
  "kernelspec": {
   "display_name": "Python 3 (ipykernel)",
   "language": "python",
   "name": "python3"
  },
  "language_info": {
   "codemirror_mode": {
    "name": "ipython",
    "version": 3
   },
   "file_extension": ".py",
   "mimetype": "text/x-python",
   "name": "python",
   "nbconvert_exporter": "python",
   "pygments_lexer": "ipython3",
   "version": "3.8.10"
  }
 },
 "nbformat": 4,
 "nbformat_minor": 4
}
